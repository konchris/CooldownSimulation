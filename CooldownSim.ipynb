{
 "metadata": {
  "name": "",
  "signature": "sha256:3b5280fc726697e2d90b66dcebe4db959f9a3e7ad353b7be2b09297eb54c6d4d"
 },
 "nbformat": 3,
 "nbformat_minor": 0,
 "worksheets": [
  {
   "cells": [
    {
     "cell_type": "code",
     "collapsed": false,
     "input": [
      "%matplotlib inline"
     ],
     "language": "python",
     "metadata": {},
     "outputs": [],
     "prompt_number": 5
    },
    {
     "cell_type": "code",
     "collapsed": false,
     "input": [
      "import numpy as np\n",
      "import matplotlib.pyplot as plt\n",
      "import pandas as pd\n",
      "import seaborn as sns\n",
      "from SpecificHeat import spec_heat_apiezon_n"
     ],
     "language": "python",
     "metadata": {},
     "outputs": [],
     "prompt_number": 6
    },
    {
     "cell_type": "code",
     "collapsed": false,
     "input": [
      "#%%writefile -a SpecificHeat.py\n",
      "#import numpy as np\n",
      "#\n",
      "def spec_heat_copper(T, echo=False):\n",
      "    \"\"\"Return the specific heat for Copper at temperature 'T' in Kelvin\n",
      "    \n",
      "    Parameters\n",
      "    ----------\n",
      "    T : float, int, list, numpy.ndarray\n",
      "        Temperature in Kelvin at which the specific heat should be calculated.\n",
      "    echo : boolean, optional\n",
      "        When true, the function prints a sentence with the values to the command line.\n",
      "        \n",
      "    Returns\n",
      "    -------\n",
      "    C : numpy.ndarray\n",
      "        The specific heat of Apiezon N at tempterature T in uTg^(-1)K^(-1)\n",
      "        \n",
      "    Reference\n",
      "    ---------\n",
      "    [1] D. L. Martin, Review of Scientific Instruments 58, 639 (1987)\n",
      "    \n",
      "    \"\"\"\n",
      "    # Convert whatever the input is into a numpy array.\n",
      "    if isinstance(T, (float, int)):\n",
      "        T = np.asarray([T])\n",
      "    elif isinstance(T, list):\n",
      "        T = np.asarray(T)\n",
      "    elif isinstance(T, np.ndarray):\n",
      "        pass\n",
      "    else:\n",
      "        raise TypeError('Invalid temperature type. Type a float, int, list or numpy array.')\n",
      "\n",
      "    C = np.ndarray(T.shape)\n",
      "    \n",
      "    # MArtin 87\n",
      "    A1 = np.array([-0.8209550462989,\n",
      "                   +0.1877774093791,\n",
      "                   -0.1572548380193E-1,\n",
      "                   +0.5828318431167E-3,\n",
      "                   -0.1420296394933E-5,\n",
      "                   -0.3466012703872E-6,\n",
      "                   +0.1030643882976E-7,\n",
      "                   -0.1621415050746E-9,\n",
      "                   +0.1678243825986E-11,\n",
      "                   -0.1225826347399E-13,\n",
      "                   +0.6497335630403E-16,\n",
      "                   -0.2516918128676E-18,\n",
      "                   +0.7065147741950E-21,\n",
      "                   -0.1400307720276E-23,\n",
      "                   +0.1858984964834E-26,\n",
      "                   -0.1483657580275E-29,\n",
      "                   +0.5382629833814E-33])\n",
      "                    \n",
      "    # Matin 68\n",
      "    gamma = 165.2\n",
      "    Omega = 345.8\n",
      "    \n",
      "    # NIST\n",
      "    A2 = np.array([-1.91844,\n",
      "                   -0.15973,\n",
      "                   +8.61013,\n",
      "                   -18.99640,\n",
      "                   +21.96610,\n",
      "                   -12.73280,\n",
      "                   +3.54322,\n",
      "                   -0.37970,\n",
      "                   +0])\n",
      "          \n",
      "    for i, t in enumerate(T):\n",
      "        #print(i, t)\n",
      "        # Martin87\n",
      "        #if t >= 20 and t <= 320:\n",
      "        #    for n, a in enumerate(A1):\n",
      "        #        #print(n, a)\n",
      "        #        C[i] += a/63.546*T**(n)\n",
      "        \n",
      "        # Martin68\n",
      "        #if t <= 3.0:\n",
      "        #    C[i] = gamma * (1/63.546) * t +(464.34/(Omega**(3)))*t**(3)\n",
      "        #else:\n",
      "        #    C[i] = np.NaN\n",
      "        \n",
      "        # NIST\n",
      "        for n, a in enumerate(A2):\n",
      "            c = a*np.log10(t)**n\n",
      "            print('10^({:.3}*log({})^{}) = {:.3}'.format(a, t, n, 10**c))\n",
      "            C[i] += c\n",
      "            \n",
      "    C = 10**C\n",
      "    \n",
      "    # Print the results to the commant line\n",
      "    if echo:\n",
      "        try:\n",
      "            for i, t in enumerate(T):\n",
      "                # print(i, t)\n",
      "                print('The specific heat of Apiezon N at {} K is {:.3f} J kg^(-1) K^(-1)'.format(t, C[i]))\n",
      "        except IndexError:\n",
      "            print('The specific heat of Apiezon N at {} K is {:.3f} J kg^(-1) K^(-1)'.format(T, C))\n",
      "    \n",
      "    # Return the resutling array\n",
      "    return C"
     ],
     "language": "python",
     "metadata": {},
     "outputs": [],
     "prompt_number": 130
    },
    {
     "cell_type": "code",
     "collapsed": false,
     "input": [
      "spec_heat_copper([1, 10, 100], True)"
     ],
     "language": "python",
     "metadata": {},
     "outputs": [
      {
       "output_type": "stream",
       "stream": "stdout",
       "text": [
        "10^(-1.92*log(1)^0) = 0.0121\n",
        "10^(-0.16*log(1)^1) = 1.0\n",
        "10^(8.61*log(1)^2) = 1.0\n",
        "10^(-19.0*log(1)^3) = 1.0\n",
        "10^(22.0*log(1)^4) = 1.0\n",
        "10^(-12.7*log(1)^5) = 1.0\n",
        "10^(3.54*log(1)^6) = 1.0\n",
        "10^(-0.38*log(1)^7) = 1.0\n",
        "10^(0.0*log(1)^8) = 1.0\n",
        "10^(-1.92*log(10)^0) = 0.0121\n",
        "10^(-0.16*log(10)^1) = 0.692\n",
        "10^(8.61*log(10)^2) = 4.08e+08\n",
        "10^(-19.0*log(10)^3) = 1.01e-19\n",
        "10^(22.0*log(10)^4) = 9.25e+21\n",
        "10^(-12.7*log(10)^5) = 1.85e-13\n",
        "10^(3.54*log(10)^6) = 3.49e+03\n",
        "10^(-0.38*log(10)^7) = 0.417\n",
        "10^(0.0*log(10)^8) = 1.0\n",
        "10^(-1.92*log(100)^0) = 0.0121\n",
        "10^(-0.16*log(100)^1) = 0.479\n",
        "10^(8.61*log(100)^2) = 2.76e+34\n",
        "10^(-19.0*log(100)^3) = 1.07e-152\n",
        "10^(22.0*log(100)^4) = inf\n",
        "10^(-12.7*log(100)^5) = 0.0\n",
        "10^(3.54*log(100)^6) = 5.84e+226\n",
        "10^(-0.38*log(100)^7) = 2.5e-49\n",
        "10^(0.0*log(100)^8) = 1.0\n",
        "The specific heat of Apiezon N at 1 K is 0.012 J kg^(-1) K^(-1)\n",
        "The specific heat of Apiezon N at 10 K is 0.856 J kg^(-1) K^(-1)\n",
        "The specific heat of Apiezon N at 100 K is 253.454 J kg^(-1) K^(-1)\n"
       ]
      },
      {
       "metadata": {},
       "output_type": "pyout",
       "prompt_number": 132,
       "text": [
        "array([  1.20659077e-02,   8.55815209e-01,   2.53454496e+02])"
       ]
      }
     ],
     "prompt_number": 132
    },
    {
     "cell_type": "code",
     "collapsed": false,
     "input": [
      "np.log10(1)"
     ],
     "language": "python",
     "metadata": {},
     "outputs": [
      {
       "metadata": {},
       "output_type": "pyout",
       "prompt_number": 127,
       "text": [
        "0.0"
       ]
      }
     ],
     "prompt_number": 127
    },
    {
     "cell_type": "code",
     "collapsed": false,
     "input": [
      "x = np.linspace(0., 100)"
     ],
     "language": "python",
     "metadata": {},
     "outputs": [],
     "prompt_number": 93
    },
    {
     "cell_type": "code",
     "collapsed": false,
     "input": [
      "spec_heat_copper(x)"
     ],
     "language": "python",
     "metadata": {},
     "outputs": [
      {
       "metadata": {},
       "output_type": "pyout",
       "prompt_number": 94,
       "text": [
        "array([ nan,  nan,  nan,  nan,  nan,  nan,  nan,  nan,  nan,  nan,  nan,\n",
        "        nan,  nan,  nan,  nan,  nan,  nan,  nan,  nan,  nan,  nan,  nan,\n",
        "        nan,  nan,  nan,  nan,  nan,  nan,  nan,  nan,  nan,  nan,  nan,\n",
        "        nan,  nan,  nan,  nan,  nan,  nan,  nan,  nan,  nan,  nan,  nan,\n",
        "        nan,  nan,  nan,  nan,  nan,  nan])"
       ]
      }
     ],
     "prompt_number": 94
    },
    {
     "cell_type": "code",
     "collapsed": false,
     "input": [
      "plt.plot(x, spec_heat_copper(x));"
     ],
     "language": "python",
     "metadata": {},
     "outputs": [
      {
       "metadata": {},
       "output_type": "display_data",
       "png": "[encoded data removed]",
       "text": [
        "<matplotlib.figure.Figure at 0x7f8d27ef00f0>"
       ]
      }
     ],
     "prompt_number": 95
    },
    {
     "cell_type": "code",
     "collapsed": false,
     "input": [],
     "language": "python",
     "metadata": {},
     "outputs": []
    },
    {
     "cell_type": "code",
     "collapsed": false,
     "input": [],
     "language": "python",
     "metadata": {},
     "outputs": []
    }
   ],
   "metadata": {}
  }
 ]
}