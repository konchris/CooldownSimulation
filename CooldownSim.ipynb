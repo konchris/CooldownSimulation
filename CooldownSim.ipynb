{
 "metadata": {
  "name": "",
  "signature": "sha256:e4ff5f3978958b003342cc9740e2b98376bcdebf258fcc6d6fa990ef12c50fed"
 },
 "nbformat": 3,
 "nbformat_minor": 0,
 "worksheets": [
  {
   "cells": [
    {
     "cell_type": "code",
     "collapsed": false,
     "input": [
      "%matplotlib inline"
     ],
     "language": "python",
     "metadata": {},
     "outputs": [],
     "prompt_number": 1
    },
    {
     "cell_type": "code",
     "collapsed": false,
     "input": [
      "import numpy as np\n",
      "import matplotlib.pyplot as plt\n",
      "import pandas as pd\n",
      "import seaborn as sns\n",
      "from SpecificHeat import spec_heat_apiezon_n"
     ],
     "language": "python",
     "metadata": {},
     "outputs": [],
     "prompt_number": 2
    },
    {
     "cell_type": "code",
     "collapsed": false,
     "input": [
      "#%%writefile -a SpecificHeat.py\n",
      "#import numpy as np\n",
      "#\n",
      "def spec_heat_copper(T, echo=False):\n",
      "    \"\"\"Return the specific heat for Copper at temperature 'T' in Kelvin\n",
      "    \n",
      "    Parameters\n",
      "    ----------\n",
      "    T : float, int, list, numpy.ndarray\n",
      "        Temperature in Kelvin at which the specific heat should be calculated.\n",
      "    echo : boolean, optional\n",
      "        When true, the function prints a sentence with the values to the command line.\n",
      "        \n",
      "    Returns\n",
      "    -------\n",
      "    C : numpy.ndarray\n",
      "        The specific heat of Apiezon N at tempterature T in uTg^(-1)K^(-1)\n",
      "        \n",
      "    Reference\n",
      "    ---------\n",
      "    [1] D. L. Martin, Review of Scientific Instruments 58, 639 (1987)\n",
      "    \n",
      "    \"\"\"\n",
      "    # Convert whatever the input is into a numpy array.\n",
      "    if isinstance(T, (float, int)):\n",
      "        T = np.asarray([T])\n",
      "    elif isinstance(T, list):\n",
      "        T = np.asarray(T)\n",
      "    elif isinstance(T, np.ndarray):\n",
      "        pass\n",
      "    else:\n",
      "        raise TypeError('Invalid temperature type. Type a float, int, list or numpy array.')\n",
      "\n",
      "    C = np.ndarray(T.shape)\n",
      "    \n",
      "    # MArtin 87\n",
      "    A1 = np.array([-0.8209550462989,\n",
      "                   +0.1877774093791,\n",
      "                   -0.1572548380193E-1,\n",
      "                   +0.5828318431167E-3,\n",
      "                   -0.1420296394933E-5,\n",
      "                   -0.3466012703872E-6,\n",
      "                   +0.1030643882976E-7,\n",
      "                   -0.1621415050746E-9,\n",
      "                   +0.1678243825986E-11,\n",
      "                   -0.1225826347399E-13,\n",
      "                   +0.6497335630403E-16,\n",
      "                   -0.2516918128676E-18,\n",
      "                   +0.7065147741950E-21,\n",
      "                   -0.1400307720276E-23,\n",
      "                   +0.1858984964834E-26,\n",
      "                   -0.1483657580275E-29,\n",
      "                   +0.5382629833814E-33])\n",
      "                    \n",
      "    # Matin 68\n",
      "    gamma = 165.2\n",
      "    Omega = 345.8\n",
      "    \n",
      "    # NIST\n",
      "    A2 = np.array([-1.91844,\n",
      "                   -0.15973,\n",
      "                   +8.61013,\n",
      "                   -18.99640,\n",
      "                   +21.96610,\n",
      "                   -12.73280,\n",
      "                   +3.54322,\n",
      "                   -0.37970,\n",
      "                   +0])\n",
      "          \n",
      "    for i, t in enumerate(T):\n",
      "        #print(i, t)\n",
      "        # Martin87\n",
      "        #if t >= 20 and t <= 320:\n",
      "        #    for n, a in enumerate(A1):\n",
      "        #        #print(n, a)\n",
      "        #        C[i] += a/63.546*T**(n)\n",
      "        \n",
      "        # Martin68\n",
      "        #if t <= 3.0:\n",
      "        #    C[i] = gamma * (1/63.546) * t +(464.34/(Omega**(3)))*t**(3)\n",
      "        #else:\n",
      "        #    C[i] = np.NaN\n",
      "        \n",
      "        # NIST\n",
      "        for n, a in enumerate(A2):\n",
      "            c = a*np.log10(t)**n\n",
      "            #print('10^({:.3}*log({})^{}) = {:.3}'.format(a, t, n, 10**c))\n",
      "            C[i] += c\n",
      "            \n",
      "    C = (10**C)*1E-3\n",
      "    \n",
      "    # Print the results to the commant line\n",
      "    if echo:\n",
      "        try:\n",
      "            for i, t in enumerate(T):\n",
      "                # print(i, t)\n",
      "                print('The specific heat of Apiezon N at {} K is {:.3f} J g^(-1) K^(-1)'.format(t, C[i]))\n",
      "        except IndexError:\n",
      "            print('The specific heat of Apiezon N at {} K is {:.3f} J g^(-1) K^(-1)'.format(T, C))\n",
      "    \n",
      "    # Return the resutling array\n",
      "    return C"
     ],
     "language": "python",
     "metadata": {},
     "outputs": [],
     "prompt_number": 43
    },
    {
     "cell_type": "code",
     "collapsed": false,
     "input": [
      "spec_heat_copper([1, 10, 100], True)"
     ],
     "language": "python",
     "metadata": {},
     "outputs": [
      {
       "output_type": "stream",
       "stream": "stdout",
       "text": [
        "The specific heat of Apiezon N at 1 K is 0.000 J kg^(-1) K^(-1)\n",
        "The specific heat of Apiezon N at 10 K is 0.001 J kg^(-1) K^(-1)\n",
        "The specific heat of Apiezon N at 100 K is 0.253 J kg^(-1) K^(-1)\n"
       ]
      },
      {
       "metadata": {},
       "output_type": "pyout",
       "prompt_number": 39,
       "text": [
        "array([  1.20659077e-05,   8.55815209e-04,   2.53454496e-01])"
       ]
      }
     ],
     "prompt_number": 39
    },
    {
     "cell_type": "code",
     "collapsed": false,
     "input": [
      "np.log10(1)"
     ],
     "language": "python",
     "metadata": {},
     "outputs": [
      {
       "metadata": {},
       "output_type": "pyout",
       "prompt_number": 40,
       "text": [
        "0.0"
       ]
      }
     ],
     "prompt_number": 40
    },
    {
     "cell_type": "code",
     "collapsed": false,
     "input": [
      "x = np.linspace(0.0, 100.0)\n",
      "print(x)"
     ],
     "language": "python",
     "metadata": {},
     "outputs": [
      {
       "output_type": "stream",
       "stream": "stdout",
       "text": [
        "[   0.            2.04081633    4.08163265    6.12244898    8.16326531\n",
        "   10.20408163   12.24489796   14.28571429   16.32653061   18.36734694\n",
        "   20.40816327   22.44897959   24.48979592   26.53061224   28.57142857\n",
        "   30.6122449    32.65306122   34.69387755   36.73469388   38.7755102\n",
        "   40.81632653   42.85714286   44.89795918   46.93877551   48.97959184\n",
        "   51.02040816   53.06122449   55.10204082   57.14285714   59.18367347\n",
        "   61.2244898    63.26530612   65.30612245   67.34693878   69.3877551\n",
        "   71.42857143   73.46938776   75.51020408   77.55102041   79.59183673\n",
        "   81.63265306   83.67346939   85.71428571   87.75510204   89.79591837\n",
        "   91.83673469   93.87755102   95.91836735   97.95918367  100.        ]\n"
       ]
      }
     ],
     "prompt_number": 41
    },
    {
     "cell_type": "code",
     "collapsed": false,
     "input": [
      "plt.loglog(x, spec_heat_copper(x), basex=10, basey=10);"
     ],
     "language": "python",
     "metadata": {},
     "outputs": [
      {
       "metadata": {},
       "output_type": "display_data",
       "png": "[encoded data removed]",
       "text": [
        "<matplotlib.figure.Figure at 0x7fc9cf61c5c0>"
       ]
      }
     ],
     "prompt_number": 42
    },
    {
     "cell_type": "code",
     "collapsed": false,
     "input": [],
     "language": "python",
     "metadata": {},
     "outputs": [],
     "prompt_number": 8
    },
    {
     "cell_type": "code",
     "collapsed": false,
     "input": [],
     "language": "python",
     "metadata": {},
     "outputs": []
    }
   ],
   "metadata": {}
  }
 ]
}