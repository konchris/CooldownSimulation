{
 "metadata": {
  "name": "",
  "signature": "sha256:fd147ee4abc4f2147fb0351717b7147ab325d13c996b8fadcfe08ef336f64171"
 },
 "nbformat": 3,
 "nbformat_minor": 0,
 "worksheets": [
  {
   "cells": [
    {
     "cell_type": "code",
     "collapsed": false,
     "input": [
      "%matplotlib inline"
     ],
     "language": "python",
     "metadata": {},
     "outputs": [],
     "prompt_number": 25
    },
    {
     "cell_type": "code",
     "collapsed": false,
     "input": [
      "import numpy as np\n",
      "import matplotlib.pyplot as plt\n",
      "import seaborn as sns\n"
     ],
     "language": "python",
     "metadata": {},
     "outputs": [],
     "prompt_number": 26
    },
    {
     "cell_type": "code",
     "collapsed": false,
     "input": [
      "def spec_heat_apiezon_n(T, echo=False):\n",
      "    \"\"\"Return the specific heat for Apiezon N at temperature 'T' in Kelvin\n",
      "    \n",
      "    Parameters\n",
      "    ----------\n",
      "    T : float\n",
      "        Temperature in Kelvin at which the specific heat should be calculated.\n",
      "    echo : boolean, optional\n",
      "        When true, the function prints a sentence with the values to the command line.\n",
      "        \n",
      "    Returns\n",
      "    -------\n",
      "    C : float\n",
      "        The specific heat of Apiezon N at tempterature T in uTg^(-1)K^(-1)\n",
      "    \n",
      "    \"\"\"\n",
      "    if T >= 0.1 and T <= 2.5:\n",
      "        C = 1.32 * T + 25.8 * T**3 + 0.0044 * T**(-2)\n",
      "    else:\n",
      "        print('No data for that temperature.')\n",
      "        return\n",
      "    \n",
      "    if echo:\n",
      "        print('The specific heat of Apiezon N at {temp} K is {spec_h} uJg^(-1)K^(-1)'.format(temp=T, spec_h=C))\n",
      "    \n",
      "    return C"
     ],
     "language": "python",
     "metadata": {},
     "outputs": [],
     "prompt_number": 33
    },
    {
     "cell_type": "code",
     "collapsed": false,
     "input": [
      "x = np.linspace(0.1, 2.5)"
     ],
     "language": "python",
     "metadata": {},
     "outputs": [],
     "prompt_number": 34
    },
    {
     "cell_type": "code",
     "collapsed": false,
     "input": [
      "plt.plot(x, [spec_heat_apiezon_n(T) for T in x]);"
     ],
     "language": "python",
     "metadata": {},
     "outputs": [
      {
       "metadata": {},
       "output_type": "display_data",
       "png": "[encoded data removed]",
       "text": [
        "<matplotlib.figure.Figure at 0x7ff3c1fc6e80>"
       ]
      }
     ],
     "prompt_number": 36
    },
    {
     "cell_type": "code",
     "collapsed": false,
     "input": [],
     "language": "python",
     "metadata": {},
     "outputs": []
    },
    {
     "cell_type": "code",
     "collapsed": false,
     "input": [],
     "language": "python",
     "metadata": {},
     "outputs": []
    }
   ],
   "metadata": {}
  }
 ]
}