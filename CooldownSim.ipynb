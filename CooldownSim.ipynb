{
 "metadata": {
  "name": "",
  "signature": "sha256:1eee3040f21ac1c4343695c648a107d496000ce3cf5565e57312f51930445c19"
 },
 "nbformat": 3,
 "nbformat_minor": 0,
 "worksheets": [
  {
   "cells": [
    {
     "cell_type": "code",
     "collapsed": false,
     "input": [
      "%matplotlib inline"
     ],
     "language": "python",
     "metadata": {},
     "outputs": [],
     "prompt_number": 1
    },
    {
     "cell_type": "code",
     "collapsed": false,
     "input": [
      "import numpy as np\n",
      "import matplotlib.pyplot as plt\n",
      "import pandas as pd\n",
      "import seaborn as sns\n",
      "from SpecificHeat import spec_heat_apiezon_n"
     ],
     "language": "python",
     "metadata": {},
     "outputs": [],
     "prompt_number": 2
    },
    {
     "cell_type": "code",
     "collapsed": false,
     "input": [
      "%%writefile SpecificHeat.py\n",
      "import numpy as np\n",
      "\n",
      "def spec_heat_apiezon_n(T, echo=False):\n",
      "    \"\"\"Return the specific heat for Apiezon N at temperature 'T' in Kelvin\n",
      "    \n",
      "    Parameters\n",
      "    ----------\n",
      "    T : float, int, list, numpy.ndarray\n",
      "        Temperature in Kelvin at which the specific heat should be calculated.\n",
      "    echo : boolean, optional\n",
      "        When true, the function prints a sentence with the values to the command line.\n",
      "        \n",
      "    Returns\n",
      "    -------\n",
      "    C : numpy.ndarray\n",
      "        The specific heat of Apiezon N at tempterature T in uTg^(-1)K^(-1)\n",
      "        \n",
      "    Reference\n",
      "    ---------\n",
      "    [1] Pobell, Frank. \"Matter and Methods at Low Temperatures, 3rd Edition\". Springer-Verlag, 2007.\n",
      "    \n",
      "    \"\"\"\n",
      "    # Convert whatever the input is into a numpy array.\n",
      "    if isinstance(T, (list, float, int)):\n",
      "        T = np.asarray(T)\n",
      "    elif isinstance(T, np.ndarray):\n",
      "        pass\n",
      "    else:\n",
      "        raise TypeError('Invalid temperature type. Type a float, int, list or numpy array.')\n",
      "        \n",
      "    C = np.ndarray(T.shape)\n",
      "        \n",
      "    for i, t in enumerate(T):\n",
      "        if t >= 0.1 and t <= 2.5:\n",
      "            C[i] = 1.32 * t + 25.8 * t**3 + 0.0044 * t**(-2)\n",
      "        else:\n",
      "            C[i] = np.NaN\n",
      "    \n",
      "    # Print the results to the commant line\n",
      "    if echo:\n",
      "        try:\n",
      "            for i, t in enumerate(T):\n",
      "                # print(i, t)\n",
      "                print('The specific heat of Apiezon N at {} K is {:.1f} uJg^(-1)K^(-1)'.format(t, C[i]))\n",
      "        except IndexError:\n",
      "            print('The specific heat of Apiezon N at {} K is {:.1f} uJg^(-1)K^(-1)'.format(T, C))\n",
      "    \n",
      "    # Return the resutling array\n",
      "    return C"
     ],
     "language": "python",
     "metadata": {},
     "outputs": [
      {
       "output_type": "stream",
       "stream": "stdout",
       "text": [
        "Overwriting SpecificHeat.py\n"
       ]
      }
     ],
     "prompt_number": 101
    },
    {
     "cell_type": "code",
     "collapsed": false,
     "input": [
      "spec_heat_apiezon_n([3, 2], True)"
     ],
     "language": "python",
     "metadata": {},
     "outputs": [
      {
       "output_type": "stream",
       "stream": "stdout",
       "text": [
        "The specific heat of Apiezon N at 3 K is nan uJg^(-1)K^(-1)\n",
        "The specific heat of Apiezon N at 2 K is 209.0 uJg^(-1)K^(-1)\n"
       ]
      },
      {
       "metadata": {},
       "output_type": "pyout",
       "prompt_number": 91,
       "text": [
        "array([      nan,  209.0411])"
       ]
      }
     ],
     "prompt_number": 91
    },
    {
     "cell_type": "code",
     "collapsed": false,
     "input": [
      "t = 3\n",
      "nt = np.asarray(t)\n",
      "print(t)#, len(t))\n",
      "print(nt, nt.shape)\n",
      "b = np.ndarray(nt.shape)\n",
      "print(b, b.shape)"
     ],
     "language": "python",
     "metadata": {},
     "outputs": [
      {
       "output_type": "stream",
       "stream": "stdout",
       "text": [
        "3\n",
        "3 ()\n",
        "1.5e-323 ()\n"
       ]
      }
     ],
     "prompt_number": 92
    },
    {
     "cell_type": "code",
     "collapsed": false,
     "input": [
      "x = np.linspace(0., 10)"
     ],
     "language": "python",
     "metadata": {},
     "outputs": [],
     "prompt_number": 97
    },
    {
     "cell_type": "code",
     "collapsed": false,
     "input": [
      "plt.plot(x, spec_heat_apiezon_n(x));"
     ],
     "language": "python",
     "metadata": {},
     "outputs": [
      {
       "metadata": {},
       "output_type": "display_data",
       "png": "[encoded data removed]",
       "text": [
        "<matplotlib.figure.Figure at 0x7f75ac3c2278>"
       ]
      }
     ],
     "prompt_number": 98
    },
    {
     "cell_type": "code",
     "collapsed": false,
     "input": [],
     "language": "python",
     "metadata": {},
     "outputs": []
    },
    {
     "cell_type": "code",
     "collapsed": false,
     "input": [],
     "language": "python",
     "metadata": {},
     "outputs": []
    }
   ],
   "metadata": {}
  }
 ]
}